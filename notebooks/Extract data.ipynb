{
 "cells": [
  {
   "cell_type": "markdown",
   "metadata": {},
   "source": [
    "# Extracting data from relational databases"
   ]
  },
  {
   "cell_type": "markdown",
   "metadata": {},
   "source": [
    "## SQLite Databases"
   ]
  },
  {
   "cell_type": "markdown",
   "metadata": {},
   "source": [
    "### import packages  "
   ]
  },
  {
   "cell_type": "code",
   "execution_count": 1,
   "metadata": {},
   "outputs": [],
   "source": [
    "# import sql lite\n",
    "import sqlite3"
   ]
  },
  {
   "cell_type": "code",
   "execution_count": 2,
   "metadata": {},
   "outputs": [],
   "source": [
    "# create a connection\n",
    "connection = sqlite3.connect(\"classroomDB.db\")\n",
    "connection.close()"
   ]
  },
  {
   "cell_type": "markdown",
   "metadata": {},
   "source": [
    "### create table"
   ]
  },
  {
   "cell_type": "code",
   "execution_count": 6,
   "metadata": {},
   "outputs": [],
   "source": [
    "# open\n",
    "connection = sqlite3.connect(\"classroomDB.db\")\n",
    "# cursor\n",
    "cursor = connection.cursor()\n",
    "# query\n",
    "create_table = \"\"\"\n",
    "    CREATE TABLE classroom (\n",
    "                    student_id INTEGER PRIMARY KEY,\n",
    "                    name VARCHAR(20),\n",
    "                    gender CHAR(1),\n",
    "                    physics_marks INTEGER,\n",
    "                    chemistry_marks INTEGER,\n",
    "                    mathematics_marks INTEGER\n",
    "                    );\n",
    "\"\"\"\n",
    "# execute query\n",
    "cursor.execute(create_table)\n",
    "# commit changes\n",
    "connection.commit()\n",
    "# close\n",
    "connection.close()"
   ]
  },
  {
   "cell_type": "markdown",
   "metadata": {},
   "source": [
    "### insert data "
   ]
  },
  {
   "cell_type": "code",
   "execution_count": null,
   "metadata": {},
   "outputs": [],
   "source": []
  }
 ],
 "metadata": {
  "kernelspec": {
   "display_name": "Python 3",
   "language": "python",
   "name": "python3"
  },
  "language_info": {
   "codemirror_mode": {
    "name": "ipython",
    "version": 3
   },
   "file_extension": ".py",
   "mimetype": "text/x-python",
   "name": "python",
   "nbconvert_exporter": "python",
   "pygments_lexer": "ipython3",
   "version": "3.6.4"
  }
 },
 "nbformat": 4,
 "nbformat_minor": 2
}
